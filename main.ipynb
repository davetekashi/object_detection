{
 "cells": [
  {
   "cell_type": "code",
   "execution_count": null,
   "metadata": {},
   "outputs": [],
   "source": [
    "#!pip install yt-dlp -q\n",
    "#!pip install ultralytics -q"
   ]
  },
  {
   "cell_type": "code",
   "execution_count": null,
   "metadata": {},
   "outputs": [],
   "source": [
    "import yt_dlp\n",
    "\n",
    "video_url = \"https://www.youtube.com/watch?v=MNn9qKG2UFI\"  # Replace with your desired video link\n",
    "ydl_opts = {\n",
    "    'format': 'best',\n",
    "    'outtmpl': 'video.mp4',  # Save the video as 'video.mp4'\n",
    "}\n",
    "\n",
    "with yt_dlp.YoutubeDL(ydl_opts) as ydl:\n",
    "    ydl.download([video_url])"
   ]
  },
  {
   "cell_type": "code",
   "execution_count": null,
   "metadata": {},
   "outputs": [],
   "source": [
    "!yolo detect predict model=yolov8m.pt source=\"video.mp4\""
   ]
  },
  {
   "cell_type": "code",
   "execution_count": null,
   "metadata": {},
   "outputs": [],
   "source": [
    "!ffmpeg -i {\"/content/runs/detect/predict/video.avi\"} -vcodec libx264 {\"final.mp4\"}"
   ]
  },
  {
   "cell_type": "code",
   "execution_count": null,
   "metadata": {},
   "outputs": [],
   "source": [
    "#==================================================EXPLANATION OF THE CODE========================================================================#\n",
    "\n",
    "# I used the pre-trained yolov8 model.\n",
    "# Download the final.mp4 video to see the result alongside the accuracy.\n",
    "# In the video. The model was trying to classify metal bars as humans but with an accuracy of 20-30% which is false when it comes to the threshold rules when it comes to classifation."
   ]
  }
 ],
 "metadata": {
  "language_info": {
   "name": "python"
  }
 },
 "nbformat": 4,
 "nbformat_minor": 2
}
